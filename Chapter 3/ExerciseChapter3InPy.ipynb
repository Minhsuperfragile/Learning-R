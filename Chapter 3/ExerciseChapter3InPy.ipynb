{
 "cells": [
  {
   "cell_type": "code",
   "execution_count": 1,
   "metadata": {},
   "outputs": [],
   "source": [
    "import pandas as pd\n",
    "import numpy as np"
   ]
  },
  {
   "cell_type": "code",
   "execution_count": 7,
   "metadata": {},
   "outputs": [
    {
     "data": {
      "text/html": [
       "<div>\n",
       "<style scoped>\n",
       "    .dataframe tbody tr th:only-of-type {\n",
       "        vertical-align: middle;\n",
       "    }\n",
       "\n",
       "    .dataframe tbody tr th {\n",
       "        vertical-align: top;\n",
       "    }\n",
       "\n",
       "    .dataframe thead th {\n",
       "        text-align: right;\n",
       "    }\n",
       "</style>\n",
       "<table border=\"1\" class=\"dataframe\">\n",
       "  <thead>\n",
       "    <tr style=\"text-align: right;\">\n",
       "      <th></th>\n",
       "      <th>dateTime</th>\n",
       "      <th>country</th>\n",
       "      <th>city</th>\n",
       "      <th>region</th>\n",
       "      <th>screenRed</th>\n",
       "      <th>surveyType</th>\n",
       "      <th>purposeProductInfo</th>\n",
       "      <th>purposeBuyFromSite</th>\n",
       "      <th>purposeComparePricing</th>\n",
       "      <th>purposeInfoAndResources</th>\n",
       "      <th>...</th>\n",
       "      <th>behavReferral</th>\n",
       "      <th>behavPageviews</th>\n",
       "      <th>behavHomePage</th>\n",
       "      <th>behavDetailProdA</th>\n",
       "      <th>behavDetailProdB</th>\n",
       "      <th>behavDetailProdC</th>\n",
       "      <th>behavAnySolution</th>\n",
       "      <th>behavAnySale</th>\n",
       "      <th>behavCart</th>\n",
       "      <th>behavConversion</th>\n",
       "    </tr>\n",
       "  </thead>\n",
       "  <tbody>\n",
       "    <tr>\n",
       "      <th>0</th>\n",
       "      <td>7/25/2014 14:10</td>\n",
       "      <td>United States</td>\n",
       "      <td>Monroe</td>\n",
       "      <td>LA</td>\n",
       "      <td>1280x1024</td>\n",
       "      <td>At Exit</td>\n",
       "      <td>Products</td>\n",
       "      <td>NaN</td>\n",
       "      <td>NaN</td>\n",
       "      <td>Resources</td>\n",
       "      <td>...</td>\n",
       "      <td>Direct</td>\n",
       "      <td>4 to 6</td>\n",
       "      <td>1</td>\n",
       "      <td>1</td>\n",
       "      <td>0</td>\n",
       "      <td>0</td>\n",
       "      <td>0</td>\n",
       "      <td>0</td>\n",
       "      <td>0</td>\n",
       "      <td>0</td>\n",
       "    </tr>\n",
       "    <tr>\n",
       "      <th>1</th>\n",
       "      <td>7/25/2014 15:01</td>\n",
       "      <td>United States</td>\n",
       "      <td>Ambler</td>\n",
       "      <td>PA</td>\n",
       "      <td>1280x800</td>\n",
       "      <td>At Exit</td>\n",
       "      <td>NaN</td>\n",
       "      <td>Buy from this site</td>\n",
       "      <td>Compare pricing</td>\n",
       "      <td>NaN</td>\n",
       "      <td>...</td>\n",
       "      <td>Unbranded Search</td>\n",
       "      <td>1</td>\n",
       "      <td>0</td>\n",
       "      <td>0</td>\n",
       "      <td>0</td>\n",
       "      <td>0</td>\n",
       "      <td>0</td>\n",
       "      <td>0</td>\n",
       "      <td>0</td>\n",
       "      <td>0</td>\n",
       "    </tr>\n",
       "    <tr>\n",
       "      <th>2</th>\n",
       "      <td>7/25/2014 15:15</td>\n",
       "      <td>United States</td>\n",
       "      <td>Beaumont</td>\n",
       "      <td>TX</td>\n",
       "      <td>768x1024</td>\n",
       "      <td>At Exit</td>\n",
       "      <td>NaN</td>\n",
       "      <td>NaN</td>\n",
       "      <td>Compare pricing</td>\n",
       "      <td>NaN</td>\n",
       "      <td>...</td>\n",
       "      <td>Unbranded Search</td>\n",
       "      <td>10+</td>\n",
       "      <td>0</td>\n",
       "      <td>0</td>\n",
       "      <td>0</td>\n",
       "      <td>0</td>\n",
       "      <td>1</td>\n",
       "      <td>1</td>\n",
       "      <td>0</td>\n",
       "      <td>0</td>\n",
       "    </tr>\n",
       "    <tr>\n",
       "      <th>3</th>\n",
       "      <td>7/25/2014 17:05</td>\n",
       "      <td>United States</td>\n",
       "      <td>Cedar City</td>\n",
       "      <td>UT</td>\n",
       "      <td>1280x960</td>\n",
       "      <td>At Exit</td>\n",
       "      <td>Products</td>\n",
       "      <td>NaN</td>\n",
       "      <td>NaN</td>\n",
       "      <td>NaN</td>\n",
       "      <td>...</td>\n",
       "      <td>Unbranded Search</td>\n",
       "      <td>10+</td>\n",
       "      <td>0</td>\n",
       "      <td>1</td>\n",
       "      <td>1</td>\n",
       "      <td>0</td>\n",
       "      <td>1</td>\n",
       "      <td>0</td>\n",
       "      <td>0</td>\n",
       "      <td>0</td>\n",
       "    </tr>\n",
       "    <tr>\n",
       "      <th>4</th>\n",
       "      <td>7/26/2014 0:27</td>\n",
       "      <td>United States</td>\n",
       "      <td>Bullhead City</td>\n",
       "      <td>AZ</td>\n",
       "      <td>1138x640</td>\n",
       "      <td>At Exit</td>\n",
       "      <td>NaN</td>\n",
       "      <td>NaN</td>\n",
       "      <td>NaN</td>\n",
       "      <td>Resources</td>\n",
       "      <td>...</td>\n",
       "      <td>Referred</td>\n",
       "      <td>1</td>\n",
       "      <td>0</td>\n",
       "      <td>0</td>\n",
       "      <td>0</td>\n",
       "      <td>0</td>\n",
       "      <td>0</td>\n",
       "      <td>0</td>\n",
       "      <td>0</td>\n",
       "      <td>0</td>\n",
       "    </tr>\n",
       "    <tr>\n",
       "      <th>...</th>\n",
       "      <td>...</td>\n",
       "      <td>...</td>\n",
       "      <td>...</td>\n",
       "      <td>...</td>\n",
       "      <td>...</td>\n",
       "      <td>...</td>\n",
       "      <td>...</td>\n",
       "      <td>...</td>\n",
       "      <td>...</td>\n",
       "      <td>...</td>\n",
       "      <td>...</td>\n",
       "      <td>...</td>\n",
       "      <td>...</td>\n",
       "      <td>...</td>\n",
       "      <td>...</td>\n",
       "      <td>...</td>\n",
       "      <td>...</td>\n",
       "      <td>...</td>\n",
       "      <td>...</td>\n",
       "      <td>...</td>\n",
       "      <td>...</td>\n",
       "    </tr>\n",
       "    <tr>\n",
       "      <th>1588</th>\n",
       "      <td>9/11/2014 11:16</td>\n",
       "      <td>United States</td>\n",
       "      <td>Albany</td>\n",
       "      <td>NY</td>\n",
       "      <td>1280x1024</td>\n",
       "      <td>At Arrival and Exit</td>\n",
       "      <td>Products</td>\n",
       "      <td>NaN</td>\n",
       "      <td>Compare pricing</td>\n",
       "      <td>Resources</td>\n",
       "      <td>...</td>\n",
       "      <td>Direct</td>\n",
       "      <td>10+</td>\n",
       "      <td>1</td>\n",
       "      <td>1</td>\n",
       "      <td>1</td>\n",
       "      <td>0</td>\n",
       "      <td>0</td>\n",
       "      <td>0</td>\n",
       "      <td>0</td>\n",
       "      <td>0</td>\n",
       "    </tr>\n",
       "    <tr>\n",
       "      <th>1589</th>\n",
       "      <td>9/11/2014 11:18</td>\n",
       "      <td>United States</td>\n",
       "      <td>Grafton</td>\n",
       "      <td>OH</td>\n",
       "      <td>768x1024</td>\n",
       "      <td>At Arrival Only</td>\n",
       "      <td>Products</td>\n",
       "      <td>NaN</td>\n",
       "      <td>NaN</td>\n",
       "      <td>NaN</td>\n",
       "      <td>...</td>\n",
       "      <td>Direct</td>\n",
       "      <td>4 to 6</td>\n",
       "      <td>1</td>\n",
       "      <td>0</td>\n",
       "      <td>0</td>\n",
       "      <td>1</td>\n",
       "      <td>0</td>\n",
       "      <td>0</td>\n",
       "      <td>0</td>\n",
       "      <td>0</td>\n",
       "    </tr>\n",
       "    <tr>\n",
       "      <th>1590</th>\n",
       "      <td>9/11/2014 11:33</td>\n",
       "      <td>United States</td>\n",
       "      <td>Lansing</td>\n",
       "      <td>MI</td>\n",
       "      <td>1680x1050</td>\n",
       "      <td>At Arrival and Exit</td>\n",
       "      <td>Products</td>\n",
       "      <td>NaN</td>\n",
       "      <td>NaN</td>\n",
       "      <td>NaN</td>\n",
       "      <td>...</td>\n",
       "      <td>Unbranded Search</td>\n",
       "      <td>10+</td>\n",
       "      <td>1</td>\n",
       "      <td>0</td>\n",
       "      <td>0</td>\n",
       "      <td>0</td>\n",
       "      <td>1</td>\n",
       "      <td>0</td>\n",
       "      <td>0</td>\n",
       "      <td>0</td>\n",
       "    </tr>\n",
       "    <tr>\n",
       "      <th>1591</th>\n",
       "      <td>9/11/2014 11:42</td>\n",
       "      <td>United States</td>\n",
       "      <td>Saint Charles</td>\n",
       "      <td>MO</td>\n",
       "      <td>1366x768</td>\n",
       "      <td>At Arrival and Exit</td>\n",
       "      <td>NaN</td>\n",
       "      <td>NaN</td>\n",
       "      <td>NaN</td>\n",
       "      <td>Resources</td>\n",
       "      <td>...</td>\n",
       "      <td>Direct</td>\n",
       "      <td>4 to 6</td>\n",
       "      <td>0</td>\n",
       "      <td>0</td>\n",
       "      <td>1</td>\n",
       "      <td>0</td>\n",
       "      <td>0</td>\n",
       "      <td>0</td>\n",
       "      <td>0</td>\n",
       "      <td>0</td>\n",
       "    </tr>\n",
       "    <tr>\n",
       "      <th>1592</th>\n",
       "      <td>9/11/2014 11:53</td>\n",
       "      <td>United States</td>\n",
       "      <td>Long Beach</td>\n",
       "      <td>CA</td>\n",
       "      <td>1920x1080</td>\n",
       "      <td>At Arrival Only</td>\n",
       "      <td>Products</td>\n",
       "      <td>NaN</td>\n",
       "      <td>NaN</td>\n",
       "      <td>Resources</td>\n",
       "      <td>...</td>\n",
       "      <td>Direct</td>\n",
       "      <td>4 to 6</td>\n",
       "      <td>0</td>\n",
       "      <td>1</td>\n",
       "      <td>0</td>\n",
       "      <td>0</td>\n",
       "      <td>0</td>\n",
       "      <td>0</td>\n",
       "      <td>0</td>\n",
       "      <td>0</td>\n",
       "    </tr>\n",
       "  </tbody>\n",
       "</table>\n",
       "<p>1593 rows × 45 columns</p>\n",
       "</div>"
      ],
      "text/plain": [
       "             dateTime        country           city region  screenRed  \\\n",
       "0     7/25/2014 14:10  United States         Monroe     LA  1280x1024   \n",
       "1     7/25/2014 15:01  United States         Ambler     PA   1280x800   \n",
       "2     7/25/2014 15:15  United States       Beaumont     TX   768x1024   \n",
       "3     7/25/2014 17:05  United States     Cedar City     UT   1280x960   \n",
       "4      7/26/2014 0:27  United States  Bullhead City     AZ   1138x640   \n",
       "...               ...            ...            ...    ...        ...   \n",
       "1588  9/11/2014 11:16  United States         Albany     NY  1280x1024   \n",
       "1589  9/11/2014 11:18  United States        Grafton     OH   768x1024   \n",
       "1590  9/11/2014 11:33  United States        Lansing     MI  1680x1050   \n",
       "1591  9/11/2014 11:42  United States  Saint Charles     MO   1366x768   \n",
       "1592  9/11/2014 11:53  United States     Long Beach     CA  1920x1080   \n",
       "\n",
       "               surveyType purposeProductInfo  purposeBuyFromSite  \\\n",
       "0                 At Exit           Products                 NaN   \n",
       "1                 At Exit                NaN  Buy from this site   \n",
       "2                 At Exit                NaN                 NaN   \n",
       "3                 At Exit           Products                 NaN   \n",
       "4                 At Exit                NaN                 NaN   \n",
       "...                   ...                ...                 ...   \n",
       "1588  At Arrival and Exit           Products                 NaN   \n",
       "1589      At Arrival Only           Products                 NaN   \n",
       "1590  At Arrival and Exit           Products                 NaN   \n",
       "1591  At Arrival and Exit                NaN                 NaN   \n",
       "1592      At Arrival Only           Products                 NaN   \n",
       "\n",
       "     purposeComparePricing purposeInfoAndResources  ...     behavReferral  \\\n",
       "0                      NaN               Resources  ...            Direct   \n",
       "1          Compare pricing                     NaN  ...  Unbranded Search   \n",
       "2          Compare pricing                     NaN  ...  Unbranded Search   \n",
       "3                      NaN                     NaN  ...  Unbranded Search   \n",
       "4                      NaN               Resources  ...          Referred   \n",
       "...                    ...                     ...  ...               ...   \n",
       "1588       Compare pricing               Resources  ...            Direct   \n",
       "1589                   NaN                     NaN  ...            Direct   \n",
       "1590                   NaN                     NaN  ...  Unbranded Search   \n",
       "1591                   NaN               Resources  ...            Direct   \n",
       "1592                   NaN               Resources  ...            Direct   \n",
       "\n",
       "     behavPageviews behavHomePage behavDetailProdA behavDetailProdB  \\\n",
       "0            4 to 6             1                1                0   \n",
       "1                 1             0                0                0   \n",
       "2               10+             0                0                0   \n",
       "3               10+             0                1                1   \n",
       "4                 1             0                0                0   \n",
       "...             ...           ...              ...              ...   \n",
       "1588            10+             1                1                1   \n",
       "1589         4 to 6             1                0                0   \n",
       "1590            10+             1                0                0   \n",
       "1591         4 to 6             0                0                1   \n",
       "1592         4 to 6             0                1                0   \n",
       "\n",
       "     behavDetailProdC behavAnySolution behavAnySale behavCart behavConversion  \n",
       "0                   0                0            0         0               0  \n",
       "1                   0                0            0         0               0  \n",
       "2                   0                1            1         0               0  \n",
       "3                   0                1            0         0               0  \n",
       "4                   0                0            0         0               0  \n",
       "...               ...              ...          ...       ...             ...  \n",
       "1588                0                0            0         0               0  \n",
       "1589                1                0            0         0               0  \n",
       "1590                0                1            0         0               0  \n",
       "1591                0                0            0         0               0  \n",
       "1592                0                0            0         0               0  \n",
       "\n",
       "[1593 rows x 45 columns]"
      ]
     },
     "execution_count": 7,
     "metadata": {},
     "output_type": "execute_result"
    }
   ],
   "source": [
    "ecom_df = pd.read_csv(\"ecommerce-data.csv\")\n",
    "ecom_df"
   ]
  },
  {
   "cell_type": "code",
   "execution_count": 9,
   "metadata": {},
   "outputs": [
    {
     "data": {
      "text/plain": [
       "(1593, 45)"
      ]
     },
     "execution_count": 9,
     "metadata": {},
     "output_type": "execute_result"
    }
   ],
   "source": [
    "# how many variables there are (45)\n",
    "ecom_df.shape"
   ]
  },
  {
   "cell_type": "code",
   "execution_count": 6,
   "metadata": {},
   "outputs": [
    {
     "data": {
      "text/plain": [
       "country\n",
       "United States           1361\n",
       "Canada                    62\n",
       "Australia                 50\n",
       "United Kingdom            31\n",
       "India                     13\n",
       "South Africa               8\n",
       "Puerto Rico                6\n",
       "Israel                     4\n",
       "United Arab Emirates       4\n",
       "Netherlands                4\n",
       "Denmark                    3\n",
       "Mexico                     3\n",
       "Brazil                     3\n",
       "Ireland                    3\n",
       "Malaysia                   3\n",
       "Costa Rica                 3\n",
       "Nigeria                    2\n",
       "Malta                      2\n",
       "Germany                    2\n",
       "Philippines                2\n",
       "Namibia                    1\n",
       "Turkey                     1\n",
       "Colombia                   1\n",
       "Slovenia                   1\n",
       "Italy                      1\n",
       "Poland                     1\n",
       "Trinidad and Tobago        1\n",
       "New Zealand                1\n",
       "Saudi Arabia               1\n",
       "Norway                     1\n",
       "Botswana                   1\n",
       "Japan                      1\n",
       "Thailand                   1\n",
       "Singapore                  1\n",
       "Panama                     1\n",
       "Barbados                   1\n",
       "Haiti                      1\n",
       "Sweden                     1\n",
       "Ukraine                    1\n",
       "Kuwait                     1\n",
       "Romania                    1\n",
       "Portugal                   1\n",
       "France                     1\n",
       "Spain                      1\n",
       "Name: count, dtype: int64"
      ]
     },
     "execution_count": 6,
     "metadata": {},
     "output_type": "execute_result"
    }
   ],
   "source": [
    "#equivalent to table() in R, give us Canada as the second most\n",
    "#visitors country\n",
    "ecom_df[\"country\"].value_counts()"
   ]
  },
  {
   "cell_type": "code",
   "execution_count": 8,
   "metadata": {},
   "outputs": [
    {
     "data": {
      "text/html": [
       "<div>\n",
       "<style scoped>\n",
       "    .dataframe tbody tr th:only-of-type {\n",
       "        vertical-align: middle;\n",
       "    }\n",
       "\n",
       "    .dataframe tbody tr th {\n",
       "        vertical-align: top;\n",
       "    }\n",
       "\n",
       "    .dataframe thead th {\n",
       "        text-align: right;\n",
       "    }\n",
       "</style>\n",
       "<table border=\"1\" class=\"dataframe\">\n",
       "  <thead>\n",
       "    <tr style=\"text-align: right;\">\n",
       "      <th>profile</th>\n",
       "      <th>Friend/family friend</th>\n",
       "      <th>Health Professional</th>\n",
       "      <th>Other</th>\n",
       "      <th>Parent</th>\n",
       "      <th>Person with [condition A]</th>\n",
       "      <th>Relative</th>\n",
       "      <th>Teacher</th>\n",
       "    </tr>\n",
       "    <tr>\n",
       "      <th>intentWasPlanningToBuy</th>\n",
       "      <th></th>\n",
       "      <th></th>\n",
       "      <th></th>\n",
       "      <th></th>\n",
       "      <th></th>\n",
       "      <th></th>\n",
       "      <th></th>\n",
       "    </tr>\n",
       "  </thead>\n",
       "  <tbody>\n",
       "    <tr>\n",
       "      <th>No</th>\n",
       "      <td>0</td>\n",
       "      <td>12</td>\n",
       "      <td>5</td>\n",
       "      <td>16</td>\n",
       "      <td>0</td>\n",
       "      <td>4</td>\n",
       "      <td>9</td>\n",
       "    </tr>\n",
       "    <tr>\n",
       "      <th>Partially (I was considering it)</th>\n",
       "      <td>1</td>\n",
       "      <td>38</td>\n",
       "      <td>19</td>\n",
       "      <td>174</td>\n",
       "      <td>8</td>\n",
       "      <td>14</td>\n",
       "      <td>35</td>\n",
       "    </tr>\n",
       "    <tr>\n",
       "      <th>Yes</th>\n",
       "      <td>0</td>\n",
       "      <td>24</td>\n",
       "      <td>14</td>\n",
       "      <td>96</td>\n",
       "      <td>4</td>\n",
       "      <td>11</td>\n",
       "      <td>14</td>\n",
       "    </tr>\n",
       "  </tbody>\n",
       "</table>\n",
       "</div>"
      ],
      "text/plain": [
       "profile                           Friend/family friend  Health Professional  \\\n",
       "intentWasPlanningToBuy                                                        \n",
       "No                                                   0                   12   \n",
       "Partially (I was considering it)                     1                   38   \n",
       "Yes                                                  0                   24   \n",
       "\n",
       "profile                           Other  Parent  Person with [condition A]  \\\n",
       "intentWasPlanningToBuy                                                       \n",
       "No                                    5      16                          0   \n",
       "Partially (I was considering it)     19     174                          8   \n",
       "Yes                                  14      96                          4   \n",
       "\n",
       "profile                           Relative  Teacher  \n",
       "intentWasPlanningToBuy                               \n",
       "No                                       4        9  \n",
       "Partially (I was considering it)        14       35  \n",
       "Yes                                     11       14  "
      ]
     },
     "execution_count": 8,
     "metadata": {},
     "output_type": "execute_result"
    }
   ],
   "source": [
    "#cross table\n",
    "pd.crosstab(ecom_df['intentWasPlanningToBuy'], ecom_df['profile'])"
   ]
  },
  {
   "cell_type": "code",
   "execution_count": 12,
   "metadata": {},
   "outputs": [
    {
     "data": {
      "text/plain": [
       "array([nan, 'Yes', 'Partially (I was considering it)', 'No'], dtype=object)"
      ]
     },
     "execution_count": 12,
     "metadata": {},
     "output_type": "execute_result"
    }
   ],
   "source": [
    "pd.unique(ecom_df['intentWasPlanningToBuy'])"
   ]
  },
  {
   "cell_type": "code",
   "execution_count": 10,
   "metadata": {},
   "outputs": [
    {
     "name": "stdout",
     "output_type": "stream",
     "text": [
      "Parent prop: 0.1927710843373494\n",
      "Teacher prop: 0.028112449799196786\n"
     ]
    }
   ],
   "source": [
    "#calculate the proportion of parents and teachers who intended to buy\n",
    "cross_table = pd.crosstab(ecom_df['intentWasPlanningToBuy'], ecom_df['profile'])\n",
    "parents = cross_table['Parent']['Yes']\n",
    "teachers = cross_table['Teacher']['Yes']\n",
    "total = 0\n",
    "\n",
    "for col in cross_table:\n",
    "    total += sum(cross_table[col])\n",
    "\n",
    "print(f'Parent prop: {parents/total}')\n",
    "print(f'Teacher prop: {teachers/total}')"
   ]
  },
  {
   "cell_type": "code",
   "execution_count": 11,
   "metadata": {},
   "outputs": [
    {
     "data": {
      "text/plain": [
       "region\n",
       "TX    94\n",
       "NY    92\n",
       "CA    90\n",
       "IL    64\n",
       "PA    57\n",
       "FL    56\n",
       "GA    50\n",
       "WA    50\n",
       "MA    46\n",
       "MI    44\n",
       "NC    42\n",
       "VA    41\n",
       "NJ    40\n",
       "OH    40\n",
       "MD    38\n",
       "MO    36\n",
       "CO    34\n",
       "MN    33\n",
       "IN    32\n",
       "WI    31\n",
       "TN    28\n",
       "AZ    26\n",
       "OR    24\n",
       "OK    23\n",
       "UT    21\n",
       "SC    18\n",
       "KS    18\n",
       "KY    18\n",
       "NE    16\n",
       "LA    14\n",
       "AR    11\n",
       "CT    11\n",
       "NH    10\n",
       "AL     9\n",
       "ME     9\n",
       "ID     8\n",
       "MT     7\n",
       "IA     7\n",
       "NM     7\n",
       "SD     6\n",
       "DC     6\n",
       "MS     5\n",
       "DE     5\n",
       "ND     5\n",
       "RI     5\n",
       "WV     5\n",
       "VT     4\n",
       "NV     4\n",
       "AK     3\n",
       "HI     2\n",
       "WY     2\n",
       "Name: count, dtype: int64"
      ]
     },
     "execution_count": 11,
     "metadata": {},
     "output_type": "execute_result"
    }
   ],
   "source": [
    "#what region has the most visitors in US\n",
    "ecom_df.loc[ecom_df['country'] == 'United States','region'].value_counts()"
   ]
  },
  {
   "cell_type": "code",
   "execution_count": 15,
   "metadata": {},
   "outputs": [
    {
     "data": {
      "image/png": "[encoded data removed]",
      "text/plain": [
       "<Figure size 1000x600 with 1 Axes>"
      ]
     },
     "metadata": {},
     "output_type": "display_data"
    }
   ],
   "source": [
    "import matplotlib.pyplot as plt\n",
    "\n",
    "plt.figure(figsize=(10, 6))\n",
    "plt.hist(ecom_df['behavNumVisits'], bins=200, color='lightblue', edgecolor='grey', density=True)\n",
    "plt.xlabel('behavNumVisits')\n",
    "plt.ylabel('Frequency')\n",
    "plt.title('Histogram of behavNumVisits')\n",
    "plt.show()"
   ]
  },
  {
   "cell_type": "code",
   "execution_count": 16,
   "metadata": {},
   "outputs": [
    {
     "data": {
      "image/png": "[encoded data removed]",
      "text/plain": [
       "<Figure size 640x480 with 1 Axes>"
      ]
     },
     "metadata": {},
     "output_type": "display_data"
    }
   ],
   "source": [
    "plt.boxplot(ecom_df['behavNumVisits'], vert=False)\n",
    "plt.xlabel('behavNumVisits')\n",
    "plt.ylabel('Boxplot')\n",
    "plt.title('Boxplot of behavNumVisits')\n",
    "plt.show()"
   ]
  },
  {
   "cell_type": "code",
   "execution_count": 19,
   "metadata": {},
   "outputs": [
    {
     "data": {
      "image/png": "[encoded data removed]",
      "text/plain": [
       "<Figure size 640x480 with 1 Axes>"
      ]
     },
     "metadata": {},
     "output_type": "display_data"
    }
   ],
   "source": [
    "import seaborn as sns\n",
    "sns.boxplot(x='behavNumVisits', y='profile', data=ecom_df, orient='h')\n",
    "plt.xlabel('behavNumVisits')\n",
    "plt.ylabel('')\n",
    "plt.title('Boxplot of behavNumVisits by profile')\n",
    "plt.show()"
   ]
  },
  {
   "cell_type": "code",
   "execution_count": 20,
   "metadata": {},
   "outputs": [],
   "source": [
    "def MeanMedDiff(vector: np.array) -> float:\n",
    "    \"\"\"Return the absolute difference between Mean and Median of an array\"\"\"\n",
    "    return abs(np.mean(vector)-np.median(vector))"
   ]
  },
  {
   "cell_type": "code",
   "execution_count": 22,
   "metadata": {},
   "outputs": [
    {
     "data": {
      "text/plain": [
       "0.7715003138731953"
      ]
     },
     "execution_count": 22,
     "metadata": {},
     "output_type": "execute_result"
    }
   ],
   "source": [
    "MeanMedDiff(ecom_df['behavNumVisits'])"
   ]
  },
  {
   "cell_type": "code",
   "execution_count": 24,
   "metadata": {},
   "outputs": [
    {
     "data": {
      "text/plain": [
       "0.7091708542713568"
      ]
     },
     "execution_count": 24,
     "metadata": {},
     "output_type": "execute_result"
    }
   ],
   "source": [
    "MeanMedDiff(ecom_df['behavNumVisits'].drop(index=np.argmax(ecom_df['behavNumVisits'])))"
   ]
  },
  {
   "cell_type": "code",
   "execution_count": 29,
   "metadata": {},
   "outputs": [
    {
     "data": {
      "text/plain": [
       "behavHomePage       0.401130\n",
       "behavDetailProdA    0.369743\n",
       "behavDetailProdB    0.238544\n",
       "behavDetailProdC    0.116761\n",
       "behavAnySolution    0.118016\n",
       "behavAnySale        0.094790\n",
       "behavCart           0.117389\n",
       "behavConversion     0.070935\n",
       "dtype: float64"
      ]
     },
     "execution_count": 29,
     "metadata": {},
     "output_type": "execute_result"
    }
   ],
   "source": [
    "ecom_df.iloc[:,37:45].apply(MeanMedDiff,axis=0)"
   ]
  },
  {
   "cell_type": "code",
   "execution_count": 30,
   "metadata": {},
   "outputs": [
    {
     "data": {
      "text/plain": [
       "behavHomePage       0.401130\n",
       "behavDetailProdA    0.369743\n",
       "behavDetailProdB    0.238544\n",
       "behavDetailProdC    0.116761\n",
       "behavAnySolution    0.118016\n",
       "behavAnySale        0.094790\n",
       "behavCart           0.117389\n",
       "behavConversion     0.070935\n",
       "dtype: float64"
      ]
     },
     "execution_count": 30,
     "metadata": {},
     "output_type": "execute_result"
    }
   ],
   "source": [
    "ecom_df.iloc[:,37:45].apply(lambda x: abs(np.mean(x)-np.median(x)),axis=0)"
   ]
  }
 ],
 "metadata": {
  "kernelspec": {
   "display_name": "Python 3",
   "language": "python",
   "name": "python3"
  },
  "language_info": {
   "codemirror_mode": {
    "name": "ipython",
    "version": 3
   },
   "file_extension": ".py",
   "mimetype": "text/x-python",
   "name": "python",
   "nbconvert_exporter": "python",
   "pygments_lexer": "ipython3",
   "version": "3.12.3"
  }
 },
 "nbformat": 4,
 "nbformat_minor": 2
}
