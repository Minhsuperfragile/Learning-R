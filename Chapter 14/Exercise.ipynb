{
 "cells": [
  {
   "cell_type": "markdown",
   "metadata": {},
   "source": [
    "#### Import and process rds frile"
   ]
  },
  {
   "cell_type": "code",
   "execution_count": 2,
   "metadata": {},
   "outputs": [],
   "source": [
    "from pyreadr import read_r\n",
    "import pandas as pd\n",
    "import numpy as np"
   ]
  },
  {
   "cell_type": "code",
   "execution_count": 3,
   "metadata": {},
   "outputs": [],
   "source": [
    "epa_rds = read_r(\"rintro-chapter14-epa.rds\")\n",
    "for key in epa_rds.keys():\n",
    "    epa_df = pd.DataFrame(epa_rds[key])"
   ]
  },
  {
   "cell_type": "code",
   "execution_count": 4,
   "metadata": {},
   "outputs": [
    {
     "data": {
      "text/html": [
       "<div>\n",
       "<style scoped>\n",
       "    .dataframe tbody tr th:only-of-type {\n",
       "        vertical-align: middle;\n",
       "    }\n",
       "\n",
       "    .dataframe tbody tr th {\n",
       "        vertical-align: top;\n",
       "    }\n",
       "\n",
       "    .dataframe thead th {\n",
       "        text-align: right;\n",
       "    }\n",
       "</style>\n",
       "<table border=\"1\" class=\"dataframe\">\n",
       "  <thead>\n",
       "    <tr style=\"text-align: right;\">\n",
       "      <th></th>\n",
       "      <th>host</th>\n",
       "      <th>timestamp</th>\n",
       "      <th>request</th>\n",
       "      <th>status</th>\n",
       "      <th>bytes</th>\n",
       "      <th>rawhost</th>\n",
       "      <th>datetime</th>\n",
       "      <th>reqtype</th>\n",
       "      <th>pagetype</th>\n",
       "      <th>page</th>\n",
       "    </tr>\n",
       "  </thead>\n",
       "  <tbody>\n",
       "    <tr>\n",
       "      <th>0</th>\n",
       "      <td>host195</td>\n",
       "      <td>[29:23:53:25]</td>\n",
       "      <td>GET /Software.html</td>\n",
       "      <td>http200</td>\n",
       "      <td>1497.0</td>\n",
       "      <td>141.243.1.172</td>\n",
       "      <td>1995-08-30 03:53:25</td>\n",
       "      <td>GET</td>\n",
       "      <td>html</td>\n",
       "      <td>/Software.html</td>\n",
       "    </tr>\n",
       "    <tr>\n",
       "      <th>1</th>\n",
       "      <td>host1888</td>\n",
       "      <td>[29:23:53:36]</td>\n",
       "      <td>GET /Consumer.html</td>\n",
       "      <td>http200</td>\n",
       "      <td>1325.0</td>\n",
       "      <td>query2.lycos.cs.cmu.edu</td>\n",
       "      <td>1995-08-30 03:53:36</td>\n",
       "      <td>GET</td>\n",
       "      <td>html</td>\n",
       "      <td>/Consumer.html</td>\n",
       "    </tr>\n",
       "    <tr>\n",
       "      <th>2</th>\n",
       "      <td>host2120</td>\n",
       "      <td>[29:23:53:53]</td>\n",
       "      <td>GET /News.html</td>\n",
       "      <td>http200</td>\n",
       "      <td>1014.0</td>\n",
       "      <td>tanuki.twics.com</td>\n",
       "      <td>1995-08-30 03:53:53</td>\n",
       "      <td>GET</td>\n",
       "      <td>html</td>\n",
       "      <td>/News.html</td>\n",
       "    </tr>\n",
       "    <tr>\n",
       "      <th>3</th>\n",
       "      <td>host2273</td>\n",
       "      <td>[29:23:54:15]</td>\n",
       "      <td>GET /</td>\n",
       "      <td>http200</td>\n",
       "      <td>4889.0</td>\n",
       "      <td>wpbfl2-45.gate.net</td>\n",
       "      <td>1995-08-30 03:54:15</td>\n",
       "      <td>GET</td>\n",
       "      <td>other</td>\n",
       "      <td>/</td>\n",
       "    </tr>\n",
       "    <tr>\n",
       "      <th>4</th>\n",
       "      <td>host2273</td>\n",
       "      <td>[29:23:54:16]</td>\n",
       "      <td>GET /icons/circle_logo_small.gif</td>\n",
       "      <td>http200</td>\n",
       "      <td>2624.0</td>\n",
       "      <td>wpbfl2-45.gate.net</td>\n",
       "      <td>1995-08-30 03:54:16</td>\n",
       "      <td>GET</td>\n",
       "      <td>gif</td>\n",
       "      <td>/icons/circle_logo_small.gif</td>\n",
       "    </tr>\n",
       "  </tbody>\n",
       "</table>\n",
       "</div>"
      ],
      "text/plain": [
       "       host      timestamp                           request   status   bytes  \\\n",
       "0   host195  [29:23:53:25]                GET /Software.html  http200  1497.0   \n",
       "1  host1888  [29:23:53:36]                GET /Consumer.html  http200  1325.0   \n",
       "2  host2120  [29:23:53:53]                    GET /News.html  http200  1014.0   \n",
       "3  host2273  [29:23:54:15]                             GET /  http200  4889.0   \n",
       "4  host2273  [29:23:54:16]  GET /icons/circle_logo_small.gif  http200  2624.0   \n",
       "\n",
       "                   rawhost            datetime reqtype pagetype  \\\n",
       "0            141.243.1.172 1995-08-30 03:53:25     GET     html   \n",
       "1  query2.lycos.cs.cmu.edu 1995-08-30 03:53:36     GET     html   \n",
       "2         tanuki.twics.com 1995-08-30 03:53:53     GET     html   \n",
       "3       wpbfl2-45.gate.net 1995-08-30 03:54:15     GET    other   \n",
       "4       wpbfl2-45.gate.net 1995-08-30 03:54:16     GET      gif   \n",
       "\n",
       "                           page  \n",
       "0                /Software.html  \n",
       "1                /Consumer.html  \n",
       "2                    /News.html  \n",
       "3                             /  \n",
       "4  /icons/circle_logo_small.gif  "
      ]
     },
     "execution_count": 4,
     "metadata": {},
     "output_type": "execute_result"
    }
   ],
   "source": [
    "epa_df.head()"
   ]
  },
  {
   "cell_type": "code",
   "execution_count": 5,
   "metadata": {},
   "outputs": [],
   "source": [
    "# convert string to datetime object\n",
    "epa_df['datetime'] = pd.to_datetime(epa_df['datetime'])\n",
    "epa_df['timestamp'] = [x.timestamp() for x in epa_df['datetime']]"
   ]
  },
  {
   "cell_type": "code",
   "execution_count": 6,
   "metadata": {},
   "outputs": [
    {
     "data": {
      "text/plain": [
       "status\n",
       "http200    36712\n",
       "http304     5300\n",
       "http302     4506\n",
       "http404      611\n",
       "http501      272\n",
       "http403      272\n",
       "http500       69\n",
       "http400        6\n",
       "Name: count, dtype: int64"
      ]
     },
     "execution_count": 6,
     "metadata": {},
     "output_type": "execute_result"
    }
   ],
   "source": [
    "epa_df.status.value_counts()"
   ]
  },
  {
   "cell_type": "code",
   "execution_count": 7,
   "metadata": {},
   "outputs": [],
   "source": [
    "epa_html200 = epa_df[(epa_df[\"status\"] == \"http200\") & (epa_df['pagetype'] == \"html\")]"
   ]
  },
  {
   "cell_type": "code",
   "execution_count": 8,
   "metadata": {},
   "outputs": [],
   "source": [
    "epa_ordered = epa_html200.sort_values(by=['host', 'timestamp'])"
   ]
  },
  {
   "cell_type": "code",
   "execution_count": 9,
   "metadata": {},
   "outputs": [],
   "source": [
    "epa_ordered[\"page\"] = [x[:-5] for x in epa_ordered['page']]"
   ]
  },
  {
   "cell_type": "code",
   "execution_count": 10,
   "metadata": {},
   "outputs": [],
   "source": [
    "session_time = 15*60\n",
    "timestamp = epa_ordered[\"timestamp\"].to_numpy()\n",
    "timediff = timestamp[1:] - timestamp[:-1]\n",
    "\n",
    "epa_ordered.reset_index(drop=True, inplace=True)\n",
    "epa_ordered[\"timediff\"] = pd.concat([pd.Series([pd.NA]),pd.Series(timediff)], ignore_index=True)"
   ]
  },
  {
   "cell_type": "code",
   "execution_count": 11,
   "metadata": {},
   "outputs": [],
   "source": [
    "top20_page = epa_ordered[\"page\"].value_counts()[:20].keys()\n",
    "\n",
    "epa_ordered20 = epa_ordered[ [x in top20_page for x in epa_ordered['page']] ]\n",
    "epa_ordered20.reset_index(drop=True, inplace=True)"
   ]
  },
  {
   "cell_type": "code",
   "execution_count": 12,
   "metadata": {},
   "outputs": [
    {
     "name": "stderr",
     "output_type": "stream",
     "text": [
      "/tmp/ipykernel_2993/1837779690.py:20: SettingWithCopyWarning: \n",
      "A value is trying to be set on a copy of a slice from a DataFrame.\n",
      "Try using .loc[row_indexer,col_indexer] = value instead\n",
      "\n",
      "See the caveats in the documentation: https://pandas.pydata.org/pandas-docs/stable/user_guide/indexing.html#returning-a-view-versus-a-copy\n",
      "  epa_ordered20['session'] = session\n"
     ]
    }
   ],
   "source": [
    "epa_stream = [epa_ordered20.iloc[0, :][\"page\"]]\n",
    "\n",
    "session = [1]\n",
    "for i in range(1,epa_ordered20.shape[0]):\n",
    "    prev_row = epa_ordered20.iloc[i-1,:]\n",
    "    curr_row = epa_ordered20.iloc[i,:]\n",
    "    if prev_row[\"host\"] == curr_row[\"host\"]:\n",
    "        if curr_row[\"timediff\"] >= session_time:\n",
    "            epa_stream[-1] += \" END\"\n",
    "            session.append(session[-1] + 1)\n",
    "            epa_stream.append(curr_row['page'])\n",
    "        else:\n",
    "            epa_stream[-1] += f\" {curr_row['page']}\"\n",
    "            session.append(session[-1])\n",
    "    else:\n",
    "        epa_stream[-1] += \" END\"\n",
    "        session.append(session[-1] + 1)\n",
    "        epa_stream.append(curr_row['page'])\n",
    "\n",
    "epa_ordered20['session'] = session"
   ]
  },
  {
   "cell_type": "code",
   "execution_count": 14,
   "metadata": {},
   "outputs": [
    {
     "data": {
      "text/plain": [
       "True"
      ]
     },
     "execution_count": 14,
     "metadata": {},
     "output_type": "execute_result"
    }
   ],
   "source": [
    "len(epa_stream) == max(epa_ordered20['session'])"
   ]
  },
  {
   "cell_type": "code",
   "execution_count": 23,
   "metadata": {},
   "outputs": [],
   "source": [
    "epa_stream_1 = [x if len(x.split(\" \")) > 2 else pd.NA for x in epa_stream]"
   ]
  },
  {
   "cell_type": "code",
   "execution_count": 25,
   "metadata": {},
   "outputs": [
    {
     "data": {
      "text/plain": [
       "3                    /docs/WhatsNew /Offices /Offices END\n",
       "4                              /PIC /docs/titlesearch END\n",
       "5                              /PIC /docs/titlesearch END\n",
       "7                                     /Info /Research END\n",
       "15            /Rules /PIC /information /docs/Internet END\n",
       "                              ...                        \n",
       "1207    /docs/major /enviro/html/ef_home /enviro/html/...\n",
       "1208                 /docs/major /enviro/html/ef_home END\n",
       "1212              /enviro/html/ef_home /docs/WhatsNew END\n",
       "1216              /information /docs/Welcome/EPA /PIC END\n",
       "1220                              /Rules /Initiatives END\n",
       "Length: 505, dtype: object"
      ]
     },
     "execution_count": 25,
     "metadata": {},
     "output_type": "execute_result"
    }
   ],
   "source": [
    "epa_stream_1 = pd.Series(epa_stream_1).dropna()\n",
    "epa_stream_1"
   ]
  },
  {
   "cell_type": "code",
   "execution_count": 26,
   "metadata": {},
   "outputs": [],
   "source": [
    "markov_chain_data = \"\"\n",
    "for session_sequence in epa_stream_1:\n",
    "    markov_chain_data += f\" {session_sequence}\" "
   ]
  },
  {
   "cell_type": "code",
   "execution_count": 15,
   "metadata": {},
   "outputs": [
    {
     "data": {
      "text/html": [
       "<div>\n",
       "<style scoped>\n",
       "    .dataframe tbody tr th:only-of-type {\n",
       "        vertical-align: middle;\n",
       "    }\n",
       "\n",
       "    .dataframe tbody tr th {\n",
       "        vertical-align: top;\n",
       "    }\n",
       "\n",
       "    .dataframe thead th {\n",
       "        text-align: right;\n",
       "    }\n",
       "</style>\n",
       "<table border=\"1\" class=\"dataframe\">\n",
       "  <thead>\n",
       "    <tr style=\"text-align: right;\">\n",
       "      <th></th>\n",
       "      <th>host</th>\n",
       "      <th>timestamp</th>\n",
       "      <th>request</th>\n",
       "      <th>status</th>\n",
       "      <th>bytes</th>\n",
       "      <th>rawhost</th>\n",
       "      <th>datetime</th>\n",
       "      <th>reqtype</th>\n",
       "      <th>pagetype</th>\n",
       "      <th>page</th>\n",
       "      <th>timediff</th>\n",
       "    </tr>\n",
       "  </thead>\n",
       "  <tbody>\n",
       "    <tr>\n",
       "      <th>0</th>\n",
       "      <td>host10</td>\n",
       "      <td>809795255.0</td>\n",
       "      <td>GET /docs/ozone/index.html</td>\n",
       "      <td>http200</td>\n",
       "      <td>3717.0</td>\n",
       "      <td>128.144.102.56</td>\n",
       "      <td>1995-08-30 15:07:35</td>\n",
       "      <td>GET</td>\n",
       "      <td>html</td>\n",
       "      <td>/docs/ozone/index</td>\n",
       "      <td>&lt;NA&gt;</td>\n",
       "    </tr>\n",
       "    <tr>\n",
       "      <th>1</th>\n",
       "      <td>host10</td>\n",
       "      <td>809796741.0</td>\n",
       "      <td>GET /Research.html</td>\n",
       "      <td>http200</td>\n",
       "      <td>2500.0</td>\n",
       "      <td>128.144.102.56</td>\n",
       "      <td>1995-08-30 15:32:21</td>\n",
       "      <td>GET</td>\n",
       "      <td>html</td>\n",
       "      <td>/Research</td>\n",
       "      <td>1486.0</td>\n",
       "    </tr>\n",
       "    <tr>\n",
       "      <th>2</th>\n",
       "      <td>host10</td>\n",
       "      <td>809796788.0</td>\n",
       "      <td>GET /docs/campus/campus.html</td>\n",
       "      <td>http200</td>\n",
       "      <td>4964.0</td>\n",
       "      <td>128.144.102.56</td>\n",
       "      <td>1995-08-30 15:33:08</td>\n",
       "      <td>GET</td>\n",
       "      <td>html</td>\n",
       "      <td>/docs/campus/campus</td>\n",
       "      <td>47.0</td>\n",
       "    </tr>\n",
       "    <tr>\n",
       "      <th>3</th>\n",
       "      <td>host10</td>\n",
       "      <td>809797100.0</td>\n",
       "      <td>GET /docs/BioTech.html</td>\n",
       "      <td>http200</td>\n",
       "      <td>331.0</td>\n",
       "      <td>128.144.102.56</td>\n",
       "      <td>1995-08-30 15:38:20</td>\n",
       "      <td>GET</td>\n",
       "      <td>html</td>\n",
       "      <td>/docs/BioTech</td>\n",
       "      <td>312.0</td>\n",
       "    </tr>\n",
       "    <tr>\n",
       "      <th>4</th>\n",
       "      <td>host100</td>\n",
       "      <td>809795012.0</td>\n",
       "      <td>GET /docs/OPPTS_Harmonized/abguide.txt.html</td>\n",
       "      <td>http200</td>\n",
       "      <td>3545.0</td>\n",
       "      <td>131.92.168.211</td>\n",
       "      <td>1995-08-30 15:03:32</td>\n",
       "      <td>GET</td>\n",
       "      <td>html</td>\n",
       "      <td>/docs/OPPTS_Harmonized/abguide.txt</td>\n",
       "      <td>-2088.0</td>\n",
       "    </tr>\n",
       "    <tr>\n",
       "      <th>5</th>\n",
       "      <td>host100</td>\n",
       "      <td>809795217.0</td>\n",
       "      <td>GET /OWOW/sec4/index.html</td>\n",
       "      <td>http200</td>\n",
       "      <td>2044.0</td>\n",
       "      <td>131.92.168.211</td>\n",
       "      <td>1995-08-30 15:06:57</td>\n",
       "      <td>GET</td>\n",
       "      <td>html</td>\n",
       "      <td>/OWOW/sec4/index</td>\n",
       "      <td>205.0</td>\n",
       "    </tr>\n",
       "    <tr>\n",
       "      <th>6</th>\n",
       "      <td>host100</td>\n",
       "      <td>809795228.0</td>\n",
       "      <td>GET /Rules.html</td>\n",
       "      <td>http200</td>\n",
       "      <td>3273.0</td>\n",
       "      <td>131.92.168.211</td>\n",
       "      <td>1995-08-30 15:07:08</td>\n",
       "      <td>GET</td>\n",
       "      <td>html</td>\n",
       "      <td>/Rules</td>\n",
       "      <td>11.0</td>\n",
       "    </tr>\n",
       "    <tr>\n",
       "      <th>7</th>\n",
       "      <td>host100</td>\n",
       "      <td>809795280.0</td>\n",
       "      <td>GET /OWOW/sec301tech/index.html</td>\n",
       "      <td>http200</td>\n",
       "      <td>8866.0</td>\n",
       "      <td>131.92.168.211</td>\n",
       "      <td>1995-08-30 15:08:00</td>\n",
       "      <td>GET</td>\n",
       "      <td>html</td>\n",
       "      <td>/OWOW/sec301tech/index</td>\n",
       "      <td>52.0</td>\n",
       "    </tr>\n",
       "    <tr>\n",
       "      <th>8</th>\n",
       "      <td>host100</td>\n",
       "      <td>809795341.0</td>\n",
       "      <td>GET /OWOW/sec301tech/3f.html</td>\n",
       "      <td>http200</td>\n",
       "      <td>22843.0</td>\n",
       "      <td>131.92.168.211</td>\n",
       "      <td>1995-08-30 15:09:01</td>\n",
       "      <td>GET</td>\n",
       "      <td>html</td>\n",
       "      <td>/OWOW/sec301tech/3f</td>\n",
       "      <td>61.0</td>\n",
       "    </tr>\n",
       "    <tr>\n",
       "      <th>9</th>\n",
       "      <td>host100</td>\n",
       "      <td>809796477.0</td>\n",
       "      <td>GET /docs/Environment.html</td>\n",
       "      <td>http200</td>\n",
       "      <td>2760.0</td>\n",
       "      <td>131.92.168.211</td>\n",
       "      <td>1995-08-30 15:27:57</td>\n",
       "      <td>GET</td>\n",
       "      <td>html</td>\n",
       "      <td>/docs/Environment</td>\n",
       "      <td>1136.0</td>\n",
       "    </tr>\n",
       "  </tbody>\n",
       "</table>\n",
       "</div>"
      ],
      "text/plain": [
       "      host    timestamp                                      request   status  \\\n",
       "0   host10  809795255.0                   GET /docs/ozone/index.html  http200   \n",
       "1   host10  809796741.0                           GET /Research.html  http200   \n",
       "2   host10  809796788.0                 GET /docs/campus/campus.html  http200   \n",
       "3   host10  809797100.0                       GET /docs/BioTech.html  http200   \n",
       "4  host100  809795012.0  GET /docs/OPPTS_Harmonized/abguide.txt.html  http200   \n",
       "5  host100  809795217.0                    GET /OWOW/sec4/index.html  http200   \n",
       "6  host100  809795228.0                              GET /Rules.html  http200   \n",
       "7  host100  809795280.0              GET /OWOW/sec301tech/index.html  http200   \n",
       "8  host100  809795341.0                 GET /OWOW/sec301tech/3f.html  http200   \n",
       "9  host100  809796477.0                   GET /docs/Environment.html  http200   \n",
       "\n",
       "     bytes         rawhost            datetime reqtype pagetype  \\\n",
       "0   3717.0  128.144.102.56 1995-08-30 15:07:35     GET     html   \n",
       "1   2500.0  128.144.102.56 1995-08-30 15:32:21     GET     html   \n",
       "2   4964.0  128.144.102.56 1995-08-30 15:33:08     GET     html   \n",
       "3    331.0  128.144.102.56 1995-08-30 15:38:20     GET     html   \n",
       "4   3545.0  131.92.168.211 1995-08-30 15:03:32     GET     html   \n",
       "5   2044.0  131.92.168.211 1995-08-30 15:06:57     GET     html   \n",
       "6   3273.0  131.92.168.211 1995-08-30 15:07:08     GET     html   \n",
       "7   8866.0  131.92.168.211 1995-08-30 15:08:00     GET     html   \n",
       "8  22843.0  131.92.168.211 1995-08-30 15:09:01     GET     html   \n",
       "9   2760.0  131.92.168.211 1995-08-30 15:27:57     GET     html   \n",
       "\n",
       "                                 page timediff  \n",
       "0                   /docs/ozone/index     <NA>  \n",
       "1                           /Research   1486.0  \n",
       "2                 /docs/campus/campus     47.0  \n",
       "3                       /docs/BioTech    312.0  \n",
       "4  /docs/OPPTS_Harmonized/abguide.txt  -2088.0  \n",
       "5                    /OWOW/sec4/index    205.0  \n",
       "6                              /Rules     11.0  \n",
       "7              /OWOW/sec301tech/index     52.0  \n",
       "8                 /OWOW/sec301tech/3f     61.0  \n",
       "9                   /docs/Environment   1136.0  "
      ]
     },
     "execution_count": 15,
     "metadata": {},
     "output_type": "execute_result"
    }
   ],
   "source": [
    "epa_ordered.head(10)"
   ]
  },
  {
   "cell_type": "markdown",
   "metadata": {},
   "source": [
    "#### Markov Chains model"
   ]
  },
  {
   "cell_type": "code",
   "execution_count": 29,
   "metadata": {},
   "outputs": [
    {
     "name": "stdout",
     "output_type": "stream",
     "text": [
      "/PIC /docs/titlesearch /docs/titlesearch /Research END\n",
      "/docs/Welcome/EPA /Offices /Rules END\n",
      "/docs/Internet /docs/Internet /docs/Internet /docs/Environment END\n",
      "/PIC /docs/WhatsNew /docs/WhatsHot /docs/WhatsHot END\n",
      "/Standards /Software /enviro/html/ef_home /docs/WhatsHot /docs/WhatsNew /Rules /Initiatives END\n"
     ]
    }
   ],
   "source": [
    "# use markovify\n",
    "import markovify\n",
    "\n",
    "model = markovify.Text(epa_stream_1, state_size=1)\n",
    "for _ in range(5):\n",
    "    print(model.make_sentence())"
   ]
  },
  {
   "cell_type": "code",
   "execution_count": 47,
   "metadata": {},
   "outputs": [
    {
     "data": {
      "text/plain": [
       "'/Rules /Offices END'"
      ]
     },
     "execution_count": 47,
     "metadata": {},
     "output_type": "execute_result"
    }
   ],
   "source": [
    "model.make_sentence_with_start(\"/Rules\", strict=False)"
   ]
  }
 ],
 "metadata": {
  "kernelspec": {
   "display_name": "tminh",
   "language": "python",
   "name": "python3"
  },
  "language_info": {
   "codemirror_mode": {
    "name": "ipython",
    "version": 3
   },
   "file_extension": ".py",
   "mimetype": "text/x-python",
   "name": "python",
   "nbconvert_exporter": "python",
   "pygments_lexer": "ipython3",
   "version": "3.12.7"
  }
 },
 "nbformat": 4,
 "nbformat_minor": 2
}
