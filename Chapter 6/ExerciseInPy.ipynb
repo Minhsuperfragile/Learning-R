{
 "cells": [
  {
   "cell_type": "code",
   "execution_count": 2,
   "metadata": {},
   "outputs": [],
   "source": [
    "import pandas as pd\n",
    "import numpy as np\n",
    "import matplotlib.pyplot as plt\n",
    "\n",
    "import statsmodels.api as sm\n",
    "from statsmodels.formula.api import ols\n",
    "from statsmodels.stats.multicomp import MultiComparison"
   ]
  },
  {
   "cell_type": "code",
   "execution_count": 3,
   "metadata": {},
   "outputs": [],
   "source": [
    "ecom_df = pd.read_csv(\"ecommerce-data.csv\")"
   ]
  },
  {
   "cell_type": "code",
   "execution_count": 8,
   "metadata": {},
   "outputs": [
    {
     "name": "stdout",
     "output_type": "stream",
     "text": [
      "productKnewWhatWanted        No       Yes\n",
      "profile                                  \n",
      "Parent                 0.392226  0.607774\n",
      "Teacher                0.441860  0.558140\n"
     ]
    }
   ],
   "source": [
    "ecom_df_PT = ecom_df[(ecom_df['profile'].isin(['Teacher', 'Parent'])) & (ecom_df['productKnewWhatWanted'].isin(['Yes', 'No']))]\n",
    "cross_tab = pd.crosstab(index=ecom_df_PT['profile'], columns=ecom_df_PT['productKnewWhatWanted'], normalize='index')\n",
    "\n",
    "print(cross_tab)"
   ]
  },
  {
   "cell_type": "code",
   "execution_count": 20,
   "metadata": {},
   "outputs": [
    {
     "name": "stdout",
     "output_type": "stream",
     "text": [
      "productKnewWhatWanted        No  Somewhat       Yes\n",
      "profile                                            \n",
      "Parent                 0.181967  0.536066  0.281967\n",
      "Teacher                0.226190  0.488095  0.285714\n"
     ]
    }
   ],
   "source": [
    "ecom_df_PT = ecom_df[(ecom_df['profile'].isin(['Teacher', 'Parent']))]\n",
    "cross_tab = pd.crosstab(index=ecom_df_PT['profile'], columns=ecom_df_PT['productKnewWhatWanted'], normalize='index')\n",
    "\n",
    "print(cross_tab)"
   ]
  },
  {
   "cell_type": "code",
   "execution_count": 25,
   "metadata": {},
   "outputs": [
    {
     "name": "stdout",
     "output_type": "stream",
     "text": [
      "Chi-square statistic: [69.89090909]\n",
      "p-value: [6.26766468e-17]\n"
     ]
    }
   ],
   "source": [
    "import pandas as pd\n",
    "from scipy.stats import chisquare\n",
    "\n",
    "# Assuming your DataFrame is named 'ecom_df_PT'\n",
    "subset_df = ecom_df_PT[ecom_df_PT['productKnewWhatWanted'] == \"Yes\"]\n",
    "profile_counts = subset_df['profile'].value_counts()\n",
    "\n",
    "# Perform the chi-square test\n",
    "chi2, p_value = chisquare(profile_counts.to_frame())\n",
    "\n",
    "print(\"Chi-square statistic:\", str(chi2))\n",
    "print(\"p-value:\", str(p_value))"
   ]
  },
  {
   "cell_type": "code",
   "execution_count": 30,
   "metadata": {},
   "outputs": [
    {
     "name": "stdout",
     "output_type": "stream",
     "text": [
      "               profile  pageViewInt\n",
      "0  Health Professional         1617\n",
      "1               Parent         5436\n",
      "2              Teacher         1364\n"
     ]
    }
   ],
   "source": [
    "ecom_df_PTH = ecom_df[ecom_df['profile'].isin([\"Teacher\", \"Parent\", \"Health Professional\"])]\n",
    "\n",
    "page_view_sum = ecom_df_PTH.groupby('profile')['pageViewInt'].sum().reset_index()\n",
    "\n",
    "print(page_view_sum)"
   ]
  },
  {
   "cell_type": "code",
   "execution_count": 41,
   "metadata": {},
   "outputs": [
    {
     "name": "stdout",
     "output_type": "stream",
     "text": [
      "Parent's result with 283 trial and 172 success:\n",
      "statistic: 0.608\n",
      "p-value: 0.809 > 0.05 => 60% is true probability\n",
      "with 95% confidence interval: 0.548 - 0.665\n",
      "Teacher's result with 86 trial and 48 success:\n",
      "statistic: 0.558\n",
      "p-value: 0.914 > 0.05 => 55% is true probability\n",
      "with 95% confidence interval: 0.447 - 0.665\n"
     ]
    }
   ],
   "source": [
    "from scipy.stats import binomtest\n",
    "\n",
    "#parent with 60%\n",
    "parent_result = binomtest(172, 172+111, 0.6)\n",
    "print(f\"Parent's result with {parent_result.n} trial and {parent_result.k} success:\")\n",
    "print(f'statistic: {parent_result.statistic:.3f}')\n",
    "print(f'p-value: {parent_result.pvalue:.3f} > 0.05 => 60% is true probability')\n",
    "print(f'with 95% confidence interval: {parent_result.proportion_ci().low:.3f} - {parent_result.proportion_ci().high:.3f}')\n",
    "#teacher with 55%\n",
    "teacher_result = binomtest(48,48+38, 0.55)\n",
    "print(f\"Teacher's result with {teacher_result.n} trial and {teacher_result.k} success:\")\n",
    "print(f'statistic: {teacher_result.statistic:.3f}')\n",
    "print(f'p-value: {teacher_result.pvalue:.3f} > 0.05 => 55% is true probability')\n",
    "print(f'with 95% confidence interval: {teacher_result.proportion_ci().low:.3f} - {parent_result.proportion_ci().high:.3f}')\n"
   ]
  },
  {
   "cell_type": "code",
   "execution_count": 44,
   "metadata": {},
   "outputs": [
    {
     "data": {
      "text/html": [
       "<div>\n",
       "<style scoped>\n",
       "    .dataframe tbody tr th:only-of-type {\n",
       "        vertical-align: middle;\n",
       "    }\n",
       "\n",
       "    .dataframe tbody tr th {\n",
       "        vertical-align: top;\n",
       "    }\n",
       "\n",
       "    .dataframe thead th {\n",
       "        text-align: right;\n",
       "    }\n",
       "</style>\n",
       "<table border=\"1\" class=\"dataframe\">\n",
       "  <thead>\n",
       "    <tr style=\"text-align: right;\">\n",
       "      <th></th>\n",
       "      <th>profile</th>\n",
       "      <th>pageViewInt</th>\n",
       "    </tr>\n",
       "  </thead>\n",
       "  <tbody>\n",
       "    <tr>\n",
       "      <th>0</th>\n",
       "      <td>Parent</td>\n",
       "      <td>7.005155</td>\n",
       "    </tr>\n",
       "    <tr>\n",
       "      <th>1</th>\n",
       "      <td>Teacher</td>\n",
       "      <td>6.116592</td>\n",
       "    </tr>\n",
       "  </tbody>\n",
       "</table>\n",
       "</div>"
      ],
      "text/plain": [
       "   profile  pageViewInt\n",
       "0   Parent     7.005155\n",
       "1  Teacher     6.116592"
      ]
     },
     "execution_count": 44,
     "metadata": {},
     "output_type": "execute_result"
    }
   ],
   "source": [
    "page_view_mean = ecom_df_PT.groupby('profile')['pageViewInt'].mean().reset_index()\n",
    "page_view_mean"
   ]
  },
  {
   "cell_type": "code",
   "execution_count": 50,
   "metadata": {},
   "outputs": [
    {
     "name": "stdout",
     "output_type": "stream",
     "text": [
      "stat: 13.641970812413826\n",
      "np-value: 0.04658294474574379\n",
      "95% confidence interval: 0.9157434206325847 - 12.206003146793794\n"
     ]
    }
   ],
   "source": [
    "from scipy.stats import ttest_1samp \n",
    "\n",
    "ttest_result = ttest_1samp(page_view_mean['pageViewInt'],popmean=0.5 )\n",
    "stat, p = ttest_result\n",
    "low, high = ttest_result.confidence_interval()\n",
    "print(f'stat: {stat}\\nnp-value: {p}')\n",
    "print(f'95% confidence interval: {low} - {high}')"
   ]
  },
  {
   "cell_type": "code",
   "execution_count": 52,
   "metadata": {},
   "outputs": [
    {
     "name": "stdout",
     "output_type": "stream",
     "text": [
      "t-statistic: -2.922453283584091\n",
      "p-value: 0.003692800076435973\n"
     ]
    }
   ],
   "source": [
    "from scipy.stats import ttest_ind\n",
    "\n",
    "# Assuming your DataFrame is named 'ecom_df_PT'\n",
    "profile_groups = ecom_df_PT.groupby('profile')['pageViewInt']\n",
    "\n",
    "# Perform the t-test\n",
    "t_stat, p_value = ttest_ind(profile_groups.get_group('Teacher'), \n",
    "                           profile_groups.get_group('Parent'),\n",
    "                           equal_var=False)\n",
    "\n",
    "print(\"t-statistic:\", t_stat)\n",
    "print(\"p-value:\", p_value)"
   ]
  },
  {
   "cell_type": "code",
   "execution_count": 53,
   "metadata": {},
   "outputs": [
    {
     "name": "stdout",
     "output_type": "stream",
     "text": [
      "F-statistic: 6.232103390207308\n",
      "p-value: 3.186496988030408e-07\n"
     ]
    }
   ],
   "source": [
    "from scipy.stats import f_oneway\n",
    "\n",
    "# Assuming your DataFrame is named 'ecom_df'\n",
    "profile_groups = ecom_df.groupby('profile')['pageViewInt']\n",
    "\n",
    "# Perform the one-way ANOVA\n",
    "f_stat, p_value = f_oneway(*[profile_groups.get_group(group) for group in profile_groups.groups])\n",
    "\n",
    "print(\"F-statistic:\", f_stat)\n",
    "print(\"p-value:\", p_value)"
   ]
  },
  {
   "cell_type": "code",
   "execution_count": 58,
   "metadata": {},
   "outputs": [
    {
     "data": {
      "image/png": "[encoded data removed]",
      "text/plain": [
       "<Figure size 1000x600 with 1 Axes>"
      ]
     },
     "metadata": {},
     "output_type": "display_data"
    }
   ],
   "source": [
    "# Assuming your DataFrame is named 'ecom_df'\n",
    "model = ols('pageViewInt ~ C(profile)', data=ecom_df).fit()\n",
    "anova_table = sm.stats.anova_lm(model, typ=2)\n",
    "\n",
    "# Perform the multiple comparisons\n",
    "mc = MultiComparison(ecom_df['pageViewInt'], ecom_df['profile'])\n",
    "mc_results = mc.tukeyhsd()\n",
    "\n",
    "# Create the plot\n",
    "fig, ax = plt.subplots(figsize=(12, 8))\n",
    "mc_results.plot_simultaneous(ax=ax)\n",
    "ax.set_xlabel('Page Views')\n",
    "ax.set_ylabel('Profile')\n",
    "ax.set_title('Page View On Profiles')\n",
    "plt.tight_layout()\n",
    "plt.show()"
   ]
  },
  {
   "cell_type": "code",
   "execution_count": 57,
   "metadata": {},
   "outputs": [
    {
     "data": {
      "image/png": "[encoded data removed]",
      "text/plain": [
       "<Figure size 1000x600 with 1 Axes>"
      ]
     },
     "metadata": {},
     "output_type": "display_data"
    }
   ],
   "source": [
    "# Assuming your DataFrame is named 'ecom_df_PT'\n",
    "model = ols('pageViewInt ~ C(profile)', data=ecom_df_PT).fit()\n",
    "anova_table = sm.stats.anova_lm(model, typ=2)\n",
    "\n",
    "# Perform the multiple comparisons\n",
    "mc = MultiComparison(ecom_df_PT['pageViewInt'], ecom_df_PT['profile'])\n",
    "mc_results = mc.tukeyhsd()\n",
    "\n",
    "# Create the plot\n",
    "fig, ax = plt.subplots(figsize=(12, 8))\n",
    "mc_results.plot_simultaneous(ax=ax)\n",
    "ax.set_xlabel('Page Views')\n",
    "ax.set_ylabel('Profile')\n",
    "ax.set_title('Page View On Profiles')\n",
    "plt.tight_layout()\n",
    "plt.show()"
   ]
  }
 ],
 "metadata": {
  "kernelspec": {
   "display_name": "Python 3",
   "language": "python",
   "name": "python3"
  },
  "language_info": {
   "codemirror_mode": {
    "name": "ipython",
    "version": 3
   },
   "file_extension": ".py",
   "mimetype": "text/x-python",
   "name": "python",
   "nbconvert_exporter": "python",
   "pygments_lexer": "ipython3",
   "version": "3.12.4"
  }
 },
 "nbformat": 4,
 "nbformat_minor": 2
}
