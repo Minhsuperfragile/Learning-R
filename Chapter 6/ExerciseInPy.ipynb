{
 "cells": [
  {
   "cell_type": "code",
   "execution_count": 1,
   "metadata": {},
   "outputs": [],
   "source": [
    "import pandas as pd\n",
    "import numpy as np\n",
    "import matplotlib.pyplot as plt"
   ]
  },
  {
   "cell_type": "code",
   "execution_count": 2,
   "metadata": {},
   "outputs": [],
   "source": [
    "ecom_df = pd.read_csv(\"ecommerce-data.csv\")"
   ]
  },
  {
   "cell_type": "code",
   "execution_count": 3,
   "metadata": {},
   "outputs": [
    {
     "name": "stdout",
     "output_type": "stream",
     "text": [
      "productKnewWhatWanted        No       Yes\n",
      "profile                                  \n",
      "Parent                 0.392226  0.607774\n",
      "Teacher                0.441860  0.558140\n"
     ]
    }
   ],
   "source": [
    "subset_df = ecom_df[(ecom_df['profile'].isin(['Teacher', 'Parent'])) & (ecom_df['productKnewWhatWanted'].isin(['Yes', 'No']))]\n",
    "cross_tab = pd.crosstab(index=subset_df['profile'], columns=subset_df['productKnewWhatWanted'], normalize='index')\n",
    "\n",
    "print(cross_tab)"
   ]
  },
  {
   "cell_type": "code",
   "execution_count": null,
   "metadata": {},
   "outputs": [],
   "source": []
  }
 ],
 "metadata": {
  "kernelspec": {
   "display_name": "Python 3",
   "language": "python",
   "name": "python3"
  },
  "language_info": {
   "codemirror_mode": {
    "name": "ipython",
    "version": 3
   },
   "file_extension": ".py",
   "mimetype": "text/x-python",
   "name": "python",
   "nbconvert_exporter": "python",
   "pygments_lexer": "ipython3",
   "version": "3.11.1"
  }
 },
 "nbformat": 4,
 "nbformat_minor": 2
}
