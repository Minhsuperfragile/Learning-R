{
 "cells": [
  {
   "cell_type": "markdown",
   "metadata": {},
   "source": [
    "### Multinomial Model\n"
   ]
  },
  {
   "cell_type": "code",
   "execution_count": 1,
   "metadata": {},
   "outputs": [],
   "source": [
    "import statsmodels.api as sm\n",
    "import pandas as pd"
   ]
  },
  {
   "cell_type": "code",
   "execution_count": 2,
   "metadata": {},
   "outputs": [
    {
     "data": {
      "text/html": [
       "<div>\n",
       "<style scoped>\n",
       "    .dataframe tbody tr th:only-of-type {\n",
       "        vertical-align: middle;\n",
       "    }\n",
       "\n",
       "    .dataframe tbody tr th {\n",
       "        vertical-align: top;\n",
       "    }\n",
       "\n",
       "    .dataframe thead th {\n",
       "        text-align: right;\n",
       "    }\n",
       "</style>\n",
       "<table border=\"1\" class=\"dataframe\">\n",
       "  <thead>\n",
       "    <tr style=\"text-align: right;\">\n",
       "      <th></th>\n",
       "      <th>resp_id</th>\n",
       "      <th>ques</th>\n",
       "      <th>alt</th>\n",
       "      <th>segment</th>\n",
       "      <th>seat</th>\n",
       "      <th>trans</th>\n",
       "      <th>convert</th>\n",
       "      <th>price</th>\n",
       "      <th>choice</th>\n",
       "    </tr>\n",
       "  </thead>\n",
       "  <tbody>\n",
       "    <tr>\n",
       "      <th>0</th>\n",
       "      <td>1</td>\n",
       "      <td>1</td>\n",
       "      <td>1</td>\n",
       "      <td>basic</td>\n",
       "      <td>2</td>\n",
       "      <td>manual</td>\n",
       "      <td>yes</td>\n",
       "      <td>35</td>\n",
       "      <td>0</td>\n",
       "    </tr>\n",
       "    <tr>\n",
       "      <th>1</th>\n",
       "      <td>1</td>\n",
       "      <td>1</td>\n",
       "      <td>2</td>\n",
       "      <td>basic</td>\n",
       "      <td>5</td>\n",
       "      <td>auto</td>\n",
       "      <td>no</td>\n",
       "      <td>40</td>\n",
       "      <td>0</td>\n",
       "    </tr>\n",
       "    <tr>\n",
       "      <th>2</th>\n",
       "      <td>1</td>\n",
       "      <td>1</td>\n",
       "      <td>3</td>\n",
       "      <td>basic</td>\n",
       "      <td>5</td>\n",
       "      <td>auto</td>\n",
       "      <td>no</td>\n",
       "      <td>30</td>\n",
       "      <td>1</td>\n",
       "    </tr>\n",
       "    <tr>\n",
       "      <th>3</th>\n",
       "      <td>1</td>\n",
       "      <td>2</td>\n",
       "      <td>1</td>\n",
       "      <td>basic</td>\n",
       "      <td>5</td>\n",
       "      <td>manual</td>\n",
       "      <td>no</td>\n",
       "      <td>35</td>\n",
       "      <td>0</td>\n",
       "    </tr>\n",
       "    <tr>\n",
       "      <th>4</th>\n",
       "      <td>1</td>\n",
       "      <td>2</td>\n",
       "      <td>2</td>\n",
       "      <td>basic</td>\n",
       "      <td>2</td>\n",
       "      <td>manual</td>\n",
       "      <td>no</td>\n",
       "      <td>30</td>\n",
       "      <td>1</td>\n",
       "    </tr>\n",
       "  </tbody>\n",
       "</table>\n",
       "</div>"
      ],
      "text/plain": [
       "   resp_id  ques  alt segment  seat   trans convert  price  choice\n",
       "0        1     1    1   basic     2  manual     yes     35       0\n",
       "1        1     1    2   basic     5    auto      no     40       0\n",
       "2        1     1    3   basic     5    auto      no     30       1\n",
       "3        1     2    1   basic     5  manual      no     35       0\n",
       "4        1     2    2   basic     2  manual      no     30       1"
      ]
     },
     "execution_count": 2,
     "metadata": {},
     "output_type": "execute_result"
    }
   ],
   "source": [
    "sport_car_df = pd.read_csv('sportcar.csv').iloc[:,1:]\n",
    "sport_car_df.head()"
   ]
  },
  {
   "cell_type": "code",
   "execution_count": 3,
   "metadata": {},
   "outputs": [
    {
     "name": "stdout",
     "output_type": "stream",
     "text": [
      "auto count: 1328\n",
      "manual count:672\n"
     ]
    }
   ],
   "source": [
    "condition = (sport_car_df['trans'] == 'auto' ) & (sport_car_df['choice'] == 1)\n",
    "auto_trans_chosen = sport_car_df[condition]\n",
    "auto_trans_chosen = auto_trans_chosen.shape[0]\n",
    "\n",
    "condition = (sport_car_df['trans'] == 'manual' ) & (sport_car_df['choice'] == 1)\n",
    "manual_trans_chosen = sport_car_df[condition]\n",
    "manual_trans_chosen = manual_trans_chosen.shape[0]\n",
    "\n",
    "print(f'auto count: {auto_trans_chosen}\\nmanual count:{manual_trans_chosen}')"
   ]
  },
  {
   "cell_type": "code",
   "execution_count": 7,
   "metadata": {},
   "outputs": [
    {
     "data": {
      "text/html": [
       "<div>\n",
       "<style scoped>\n",
       "    .dataframe tbody tr th:only-of-type {\n",
       "        vertical-align: middle;\n",
       "    }\n",
       "\n",
       "    .dataframe tbody tr th {\n",
       "        vertical-align: top;\n",
       "    }\n",
       "\n",
       "    .dataframe thead th {\n",
       "        text-align: right;\n",
       "    }\n",
       "</style>\n",
       "<table border=\"1\" class=\"dataframe\">\n",
       "  <thead>\n",
       "    <tr style=\"text-align: right;\">\n",
       "      <th></th>\n",
       "      <th>resp_id</th>\n",
       "      <th>ques</th>\n",
       "      <th>alt</th>\n",
       "      <th>segment</th>\n",
       "      <th>seat</th>\n",
       "      <th>trans</th>\n",
       "      <th>convert</th>\n",
       "      <th>price</th>\n",
       "      <th>choice</th>\n",
       "    </tr>\n",
       "  </thead>\n",
       "  <tbody>\n",
       "    <tr>\n",
       "      <th>0</th>\n",
       "      <td>1</td>\n",
       "      <td>1</td>\n",
       "      <td>1</td>\n",
       "      <td>basic</td>\n",
       "      <td>0</td>\n",
       "      <td>0</td>\n",
       "      <td>1</td>\n",
       "      <td>35</td>\n",
       "      <td>0</td>\n",
       "    </tr>\n",
       "    <tr>\n",
       "      <th>1</th>\n",
       "      <td>1</td>\n",
       "      <td>1</td>\n",
       "      <td>2</td>\n",
       "      <td>basic</td>\n",
       "      <td>2</td>\n",
       "      <td>1</td>\n",
       "      <td>0</td>\n",
       "      <td>40</td>\n",
       "      <td>0</td>\n",
       "    </tr>\n",
       "    <tr>\n",
       "      <th>2</th>\n",
       "      <td>1</td>\n",
       "      <td>1</td>\n",
       "      <td>3</td>\n",
       "      <td>basic</td>\n",
       "      <td>2</td>\n",
       "      <td>1</td>\n",
       "      <td>0</td>\n",
       "      <td>30</td>\n",
       "      <td>1</td>\n",
       "    </tr>\n",
       "    <tr>\n",
       "      <th>3</th>\n",
       "      <td>1</td>\n",
       "      <td>2</td>\n",
       "      <td>1</td>\n",
       "      <td>basic</td>\n",
       "      <td>2</td>\n",
       "      <td>0</td>\n",
       "      <td>0</td>\n",
       "      <td>35</td>\n",
       "      <td>0</td>\n",
       "    </tr>\n",
       "    <tr>\n",
       "      <th>4</th>\n",
       "      <td>1</td>\n",
       "      <td>2</td>\n",
       "      <td>2</td>\n",
       "      <td>basic</td>\n",
       "      <td>0</td>\n",
       "      <td>0</td>\n",
       "      <td>0</td>\n",
       "      <td>30</td>\n",
       "      <td>1</td>\n",
       "    </tr>\n",
       "  </tbody>\n",
       "</table>\n",
       "</div>"
      ],
      "text/plain": [
       "   resp_id  ques  alt segment  seat  trans  convert  price  choice\n",
       "0        1     1    1   basic     0      0        1     35       0\n",
       "1        1     1    2   basic     2      1        0     40       0\n",
       "2        1     1    3   basic     2      1        0     30       1\n",
       "3        1     2    1   basic     2      0        0     35       0\n",
       "4        1     2    2   basic     0      0        0     30       1"
      ]
     },
     "execution_count": 7,
     "metadata": {},
     "output_type": "execute_result"
    }
   ],
   "source": [
    "sport_car_df.head()"
   ]
  },
  {
   "cell_type": "code",
   "execution_count": 5,
   "metadata": {},
   "outputs": [],
   "source": [
    "sport_car_df['convert'] = pd.Series([0 if x == \"no\" else 1 for x in sport_car_df['convert'] ]) \n",
    "sport_car_df['trans'] = pd.Series([0 if x == \"manual\" else 1 for x in sport_car_df['trans'] ]) "
   ]
  },
  {
   "cell_type": "code",
   "execution_count": 6,
   "metadata": {},
   "outputs": [],
   "source": [
    "for row in range(sport_car_df.shape[0]):\n",
    "    if sport_car_df.iloc[row, 4] == 2:\n",
    "        sport_car_df.iloc[row,4] = 0\n",
    "    elif sport_car_df.iloc[row, 4] == 4:\n",
    "        sport_car_df.iloc[row, 4] = 1\n",
    "    else:\n",
    "        sport_car_df.iloc[row, 4] = 2"
   ]
  },
  {
   "cell_type": "code",
   "execution_count": 9,
   "metadata": {},
   "outputs": [
    {
     "name": "stderr",
     "output_type": "stream",
     "text": [
      "/home/tminh/anaconda3/envs/blip2/lib/python3.8/site-packages/pylogit/choice_tools.py:329: FutureWarning: elementwise comparison failed; returning scalar instead, but in the future will perform elementwise comparison\n",
      "  if group not in unique_alternatives:\n"
     ]
    },
    {
     "ename": "ValueError",
     "evalue": "seat in specification_dict[seat] is not in long_format[alt_id_col]",
     "output_type": "error",
     "traceback": [
      "\u001b[0;31m---------------------------------------------------------------------------\u001b[0m",
      "\u001b[0;31mValueError\u001b[0m                                Traceback (most recent call last)",
      "Cell \u001b[0;32mIn[9], line 17\u001b[0m\n\u001b[1;32m     10\u001b[0m ind_vars \u001b[38;5;241m=\u001b[39m OrderedDict([\n\u001b[1;32m     11\u001b[0m     (\u001b[38;5;124m'\u001b[39m\u001b[38;5;124mseat\u001b[39m\u001b[38;5;124m'\u001b[39m, [\u001b[38;5;124m'\u001b[39m\u001b[38;5;124mseat\u001b[39m\u001b[38;5;124m'\u001b[39m]),\n\u001b[1;32m     12\u001b[0m     (\u001b[38;5;124m'\u001b[39m\u001b[38;5;124mtrans\u001b[39m\u001b[38;5;124m'\u001b[39m, [\u001b[38;5;124m'\u001b[39m\u001b[38;5;124mtrans\u001b[39m\u001b[38;5;124m'\u001b[39m]),\n\u001b[1;32m     13\u001b[0m     (\u001b[38;5;124m'\u001b[39m\u001b[38;5;124mconvert\u001b[39m\u001b[38;5;124m'\u001b[39m, [\u001b[38;5;124m'\u001b[39m\u001b[38;5;124mconvert\u001b[39m\u001b[38;5;124m'\u001b[39m]),\n\u001b[1;32m     14\u001b[0m     (\u001b[38;5;124m'\u001b[39m\u001b[38;5;124mprice\u001b[39m\u001b[38;5;124m'\u001b[39m, [\u001b[38;5;124m'\u001b[39m\u001b[38;5;124mprice\u001b[39m\u001b[38;5;124m'\u001b[39m])\n\u001b[1;32m     15\u001b[0m ])\n\u001b[1;32m     16\u001b[0m \u001b[38;5;66;03m# Create the Multinomial Logit model\u001b[39;00m\n\u001b[0;32m---> 17\u001b[0m model \u001b[38;5;241m=\u001b[39m \u001b[43mpl\u001b[49m\u001b[38;5;241;43m.\u001b[39;49m\u001b[43mcreate_choice_model\u001b[49m\u001b[43m(\u001b[49m\u001b[43mdata\u001b[49m\u001b[38;5;241;43m=\u001b[39;49m\u001b[43msport_car_df\u001b[49m\u001b[43m,\u001b[49m\n\u001b[1;32m     18\u001b[0m \u001b[43m                               \u001b[49m\u001b[43malt_id_col\u001b[49m\u001b[38;5;241;43m=\u001b[39;49m\u001b[38;5;124;43m'\u001b[39;49m\u001b[38;5;124;43malt\u001b[39;49m\u001b[38;5;124;43m'\u001b[39;49m\u001b[43m,\u001b[49m\n\u001b[1;32m     19\u001b[0m \u001b[43m                               \u001b[49m\u001b[43mobs_id_col\u001b[49m\u001b[38;5;241;43m=\u001b[39;49m\u001b[38;5;124;43m'\u001b[39;49m\u001b[38;5;124;43mresp_id\u001b[39;49m\u001b[38;5;124;43m'\u001b[39;49m\u001b[43m,\u001b[49m\n\u001b[1;32m     20\u001b[0m \u001b[43m                               \u001b[49m\u001b[43mchoice_col\u001b[49m\u001b[38;5;241;43m=\u001b[39;49m\u001b[38;5;124;43m'\u001b[39;49m\u001b[38;5;124;43mchoice\u001b[39;49m\u001b[38;5;124;43m'\u001b[39;49m\u001b[43m,\u001b[49m\n\u001b[1;32m     21\u001b[0m \u001b[43m                               \u001b[49m\u001b[43mspecification\u001b[49m\u001b[38;5;241;43m=\u001b[39;49m\u001b[43mind_vars\u001b[49m\u001b[43m,\u001b[49m\n\u001b[1;32m     22\u001b[0m \u001b[43m                               \u001b[49m\u001b[43mmodel_type\u001b[49m\u001b[38;5;241;43m=\u001b[39;49m\u001b[38;5;124;43m\"\u001b[39;49m\u001b[38;5;124;43mMNL\u001b[39;49m\u001b[38;5;124;43m\"\u001b[39;49m\u001b[43m)\u001b[49m\n\u001b[1;32m     24\u001b[0m results \u001b[38;5;241m=\u001b[39m model\u001b[38;5;241m.\u001b[39mfit_mle()\n\u001b[1;32m     25\u001b[0m results\u001b[38;5;241m.\u001b[39msummary()\n",
      "File \u001b[0;32m~/anaconda3/envs/blip2/lib/python3.8/site-packages/pylogit/pylogit.py:220\u001b[0m, in \u001b[0;36mcreate_choice_model\u001b[0;34m(data, alt_id_col, obs_id_col, choice_col, specification, model_type, intercept_ref_pos, shape_ref_pos, names, intercept_names, shape_names, nest_spec, mixing_id_col, mixing_vars)\u001b[0m\n\u001b[1;32m    210\u001b[0m \u001b[38;5;66;03m# Carry out the appropriate instantiation process for the chosen\u001b[39;00m\n\u001b[1;32m    211\u001b[0m \u001b[38;5;66;03m# choice model\u001b[39;00m\n\u001b[1;32m    212\u001b[0m model_kwargs \u001b[38;5;241m=\u001b[39m {\u001b[38;5;124m\"\u001b[39m\u001b[38;5;124mintercept_ref_pos\u001b[39m\u001b[38;5;124m\"\u001b[39m: intercept_ref_pos,\n\u001b[1;32m    213\u001b[0m                 \u001b[38;5;124m\"\u001b[39m\u001b[38;5;124mshape_ref_pos\u001b[39m\u001b[38;5;124m\"\u001b[39m: shape_ref_pos,\n\u001b[1;32m    214\u001b[0m                 \u001b[38;5;124m\"\u001b[39m\u001b[38;5;124mnames\u001b[39m\u001b[38;5;124m\"\u001b[39m: names,\n\u001b[0;32m   (...)\u001b[0m\n\u001b[1;32m    218\u001b[0m                 \u001b[38;5;124m\"\u001b[39m\u001b[38;5;124mmixing_id_col\u001b[39m\u001b[38;5;124m\"\u001b[39m: mixing_id_col,\n\u001b[1;32m    219\u001b[0m                 \u001b[38;5;124m\"\u001b[39m\u001b[38;5;124mmixing_vars\u001b[39m\u001b[38;5;124m\"\u001b[39m: mixing_vars}\n\u001b[0;32m--> 220\u001b[0m \u001b[38;5;28;01mreturn\u001b[39;00m \u001b[43mmodel_type_to_class\u001b[49m\u001b[43m[\u001b[49m\u001b[43mmodel_type\u001b[49m\u001b[43m]\u001b[49m\u001b[43m(\u001b[49m\u001b[43mdata\u001b[49m\u001b[43m,\u001b[49m\n\u001b[1;32m    221\u001b[0m \u001b[43m                                       \u001b[49m\u001b[43malt_id_col\u001b[49m\u001b[43m,\u001b[49m\n\u001b[1;32m    222\u001b[0m \u001b[43m                                       \u001b[49m\u001b[43mobs_id_col\u001b[49m\u001b[43m,\u001b[49m\n\u001b[1;32m    223\u001b[0m \u001b[43m                                       \u001b[49m\u001b[43mchoice_col\u001b[49m\u001b[43m,\u001b[49m\n\u001b[1;32m    224\u001b[0m \u001b[43m                                       \u001b[49m\u001b[43mspecification\u001b[49m\u001b[43m,\u001b[49m\n\u001b[1;32m    225\u001b[0m \u001b[43m                                       \u001b[49m\u001b[38;5;241;43m*\u001b[39;49m\u001b[38;5;241;43m*\u001b[39;49m\u001b[43mmodel_kwargs\u001b[49m\u001b[43m)\u001b[49m\n",
      "File \u001b[0;32m~/anaconda3/envs/blip2/lib/python3.8/site-packages/pylogit/conditional_logit.py:292\u001b[0m, in \u001b[0;36mMNL.__init__\u001b[0;34m(self, data, alt_id_col, obs_id_col, choice_col, specification, names, *args, **kwargs)\u001b[0m\n\u001b[1;32m    289\u001b[0m         \u001b[38;5;28;01mraise\u001b[39;00m \u001b[38;5;167;01mValueError\u001b[39;00m(msg)\n\u001b[1;32m    291\u001b[0m \u001b[38;5;66;03m# Carry out the common instantiation process for all choice models\u001b[39;00m\n\u001b[0;32m--> 292\u001b[0m \u001b[38;5;28;43msuper\u001b[39;49m\u001b[43m(\u001b[49m\u001b[43mMNL\u001b[49m\u001b[43m,\u001b[49m\u001b[43m \u001b[49m\u001b[38;5;28;43mself\u001b[39;49m\u001b[43m)\u001b[49m\u001b[38;5;241;43m.\u001b[39;49m\u001b[38;5;21;43m__init__\u001b[39;49m\u001b[43m(\u001b[49m\u001b[43mdata\u001b[49m\u001b[43m,\u001b[49m\n\u001b[1;32m    293\u001b[0m \u001b[43m                          \u001b[49m\u001b[43malt_id_col\u001b[49m\u001b[43m,\u001b[49m\n\u001b[1;32m    294\u001b[0m \u001b[43m                          \u001b[49m\u001b[43mobs_id_col\u001b[49m\u001b[43m,\u001b[49m\n\u001b[1;32m    295\u001b[0m \u001b[43m                          \u001b[49m\u001b[43mchoice_col\u001b[49m\u001b[43m,\u001b[49m\n\u001b[1;32m    296\u001b[0m \u001b[43m                          \u001b[49m\u001b[43mspecification\u001b[49m\u001b[43m,\u001b[49m\n\u001b[1;32m    297\u001b[0m \u001b[43m                          \u001b[49m\u001b[43mnames\u001b[49m\u001b[38;5;241;43m=\u001b[39;49m\u001b[43mnames\u001b[49m\u001b[43m,\u001b[49m\n\u001b[1;32m    298\u001b[0m \u001b[43m                          \u001b[49m\u001b[43mmodel_type\u001b[49m\u001b[38;5;241;43m=\u001b[39;49m\u001b[43mmodel_type_to_display_name\u001b[49m\u001b[43m[\u001b[49m\u001b[38;5;124;43m\"\u001b[39;49m\u001b[38;5;124;43mMNL\u001b[39;49m\u001b[38;5;124;43m\"\u001b[39;49m\u001b[43m]\u001b[49m\u001b[43m)\u001b[49m\n\u001b[1;32m    300\u001b[0m \u001b[38;5;66;03m# Store the utility transform function\u001b[39;00m\n\u001b[1;32m    301\u001b[0m \u001b[38;5;28mself\u001b[39m\u001b[38;5;241m.\u001b[39mutility_transform \u001b[38;5;241m=\u001b[39m _mnl_utility_transform\n",
      "File \u001b[0;32m~/anaconda3/envs/blip2/lib/python3.8/site-packages/pylogit/base_multinomial_cm_v2.py:876\u001b[0m, in \u001b[0;36mMNDC_Model.__init__\u001b[0;34m(self, data, alt_id_col, obs_id_col, choice_col, specification, intercept_ref_pos, shape_ref_pos, names, intercept_names, shape_names, nest_spec, mixing_vars, mixing_id_col, model_type)\u001b[0m\n\u001b[1;32m    871\u001b[0m ensure_valid_nums_in_specification_cols(specification, dataframe)\n\u001b[1;32m    873\u001b[0m \u001b[38;5;66;03m##########\u001b[39;00m\n\u001b[1;32m    874\u001b[0m \u001b[38;5;66;03m# Create the design matrix for this model\u001b[39;00m\n\u001b[1;32m    875\u001b[0m \u001b[38;5;66;03m##########\u001b[39;00m\n\u001b[0;32m--> 876\u001b[0m design_res \u001b[38;5;241m=\u001b[39m \u001b[43mcreate_design_matrix\u001b[49m\u001b[43m(\u001b[49m\u001b[43mdataframe\u001b[49m\u001b[43m,\u001b[49m\n\u001b[1;32m    877\u001b[0m \u001b[43m                                  \u001b[49m\u001b[43mspecification\u001b[49m\u001b[43m,\u001b[49m\n\u001b[1;32m    878\u001b[0m \u001b[43m                                  \u001b[49m\u001b[43malt_id_col\u001b[49m\u001b[43m,\u001b[49m\n\u001b[1;32m    879\u001b[0m \u001b[43m                                  \u001b[49m\u001b[43mnames\u001b[49m\u001b[38;5;241;43m=\u001b[39;49m\u001b[43mnames\u001b[49m\u001b[43m)\u001b[49m\n\u001b[1;32m    881\u001b[0m \u001b[38;5;66;03m##########\u001b[39;00m\n\u001b[1;32m    882\u001b[0m \u001b[38;5;66;03m# Make sure that the passed mixing variables are valid.\u001b[39;00m\n\u001b[1;32m    883\u001b[0m \u001b[38;5;66;03m# Note that design_res[1] contains the index variable names.\u001b[39;00m\n\u001b[1;32m    884\u001b[0m \u001b[38;5;66;03m##########\u001b[39;00m\n\u001b[1;32m    885\u001b[0m ensure_all_mixing_vars_are_in_the_name_dict(mixing_vars,\n\u001b[1;32m    886\u001b[0m                                             names,\n\u001b[1;32m    887\u001b[0m                                             design_res[\u001b[38;5;241m1\u001b[39m])\n",
      "File \u001b[0;32m~/anaconda3/envs/blip2/lib/python3.8/site-packages/pylogit/choice_tools.py:652\u001b[0m, in \u001b[0;36mcreate_design_matrix\u001b[0;34m(long_form, specification_dict, alt_id_col, names)\u001b[0m\n\u001b[1;32m    649\u001b[0m unique_alternatives \u001b[38;5;241m=\u001b[39m np\u001b[38;5;241m.\u001b[39msort(long_form[alt_id_col]\u001b[38;5;241m.\u001b[39munique())\n\u001b[1;32m    650\u001b[0m num_alternatives \u001b[38;5;241m=\u001b[39m \u001b[38;5;28mlen\u001b[39m(unique_alternatives)\n\u001b[0;32m--> 652\u001b[0m \u001b[43mcheck_type_and_values_of_specification_dict\u001b[49m\u001b[43m(\u001b[49m\u001b[43mspecification_dict\u001b[49m\u001b[43m,\u001b[49m\n\u001b[1;32m    653\u001b[0m \u001b[43m                                            \u001b[49m\u001b[43munique_alternatives\u001b[49m\u001b[43m)\u001b[49m\n\u001b[1;32m    655\u001b[0m \u001b[38;5;66;03m# Check the user passed dictionary of names if the user passed such a list\u001b[39;00m\n\u001b[1;32m    656\u001b[0m \u001b[38;5;28;01mif\u001b[39;00m names \u001b[38;5;129;01mis\u001b[39;00m \u001b[38;5;129;01mnot\u001b[39;00m \u001b[38;5;28;01mNone\u001b[39;00m:\n",
      "File \u001b[0;32m~/anaconda3/envs/blip2/lib/python3.8/site-packages/pylogit/choice_tools.py:332\u001b[0m, in \u001b[0;36mcheck_type_and_values_of_specification_dict\u001b[0;34m(specification_dict, unique_alternatives)\u001b[0m\n\u001b[1;32m    330\u001b[0m                 msg_1 \u001b[38;5;241m=\u001b[39m \u001b[38;5;124m\"\u001b[39m\u001b[38;5;132;01m{}\u001b[39;00m\u001b[38;5;124m in specification_dict[\u001b[39m\u001b[38;5;132;01m{}\u001b[39;00m\u001b[38;5;124m]\u001b[39m\u001b[38;5;124m\"\u001b[39m\n\u001b[1;32m    331\u001b[0m                 msg_2 \u001b[38;5;241m=\u001b[39m \u001b[38;5;124m\"\u001b[39m\u001b[38;5;124m is not in long_format[alt_id_col]\u001b[39m\u001b[38;5;124m\"\u001b[39m\n\u001b[0;32m--> 332\u001b[0m                 \u001b[38;5;28;01mraise\u001b[39;00m \u001b[38;5;167;01mValueError\u001b[39;00m(msg_1\u001b[38;5;241m.\u001b[39mformat(group, key) \u001b[38;5;241m+\u001b[39m msg_2)\n\u001b[1;32m    334\u001b[0m \u001b[38;5;28;01melse\u001b[39;00m:\n\u001b[1;32m    335\u001b[0m     msg \u001b[38;5;241m=\u001b[39m \u001b[38;5;124m\"\u001b[39m\u001b[38;5;124mspecification_dict[\u001b[39m\u001b[38;5;132;01m{}\u001b[39;00m\u001b[38;5;124m] must be \u001b[39m\u001b[38;5;124m'\u001b[39m\u001b[38;5;124mall_same\u001b[39m\u001b[38;5;124m'\u001b[39m\u001b[38;5;124m, \u001b[39m\u001b[38;5;124m'\u001b[39m\u001b[38;5;124mall_diff\u001b[39m\u001b[38;5;124m'\u001b[39m\u001b[38;5;124m, or\u001b[39m\u001b[38;5;124m\"\u001b[39m\n",
      "\u001b[0;31mValueError\u001b[0m: seat in specification_dict[seat] is not in long_format[alt_id_col]"
     ]
    }
   ],
   "source": [
    "import pylogit as pl\n",
    "from collections import OrderedDict\n",
    "# Load data (this assumes you have a pandas DataFrame called 'data')\n",
    "# 'choice' is the column that indicates the chosen alternative (1 if chosen, 0 otherwise).\n",
    "# 'individual_id' is the decision-maker identifier.\n",
    "# 'alternative_id' is the unique identifier for each alternative.\n",
    "\n",
    "# Specify the columns that contain the alternative-specific variables (e.g., cost, time)\n",
    "ind_vars = OrderedDict([\n",
    "    ('seat', ['seat']),\n",
    "    ('trans', ['trans']),\n",
    "    ('convert', ['convert']),\n",
    "    ('price', ['price'])\n",
    "])\n",
    "# Create the Multinomial Logit model\n",
    "model = pl.create_choice_model(data=sport_car_df,\n",
    "                               alt_id_col='alt',\n",
    "                               obs_id_col='resp_id',\n",
    "                               choice_col='choice',\n",
    "                               specification=ind_vars,\n",
    "                               model_type=\"MNL\")\n",
    "\n",
    "results = model.fit_mle()\n",
    "results.summary()"
   ]
  }
 ],
 "metadata": {
  "kernelspec": {
   "display_name": "blip2",
   "language": "python",
   "name": "python3"
  },
  "language_info": {
   "codemirror_mode": {
    "name": "ipython",
    "version": 3
   },
   "file_extension": ".py",
   "mimetype": "text/x-python",
   "name": "python",
   "nbconvert_exporter": "python",
   "pygments_lexer": "ipython3",
   "version": "3.8.20"
  }
 },
 "nbformat": 4,
 "nbformat_minor": 2
}
